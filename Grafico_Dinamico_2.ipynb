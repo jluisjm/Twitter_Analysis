{
 "cells": [
  {
   "cell_type": "code",
   "execution_count": 1,
   "id": "7ff6fd0b",
   "metadata": {},
   "outputs": [
    {
     "name": "stdout",
     "output_type": "stream",
     "text": [
      "Dash app running on http://127.0.0.1:7077/\n"
     ]
    }
   ],
   "source": [
    "import warnings, json, numpy as np, pandas as pd, dash, plotly.express as px, plotly.graph_objects as go\n",
    "from textwrap import dedent as d\n",
    "from dash import dcc\n",
    "from dash import html\n",
    "from dash.dependencies import Input, Output\n",
    "from jupyter_dash import JupyterDash\n",
    "\n",
    "ruta = 'C://Users//jose.jimenez//A Python Scripts//TwitterData//Tweetsentpol.csv'\n",
    "\n",
    "df = pd.read_csv(ruta, header=0)\n",
    "df2 = df[['Fecha', 'Polarity']]\n",
    "\n",
    "fecha_ini = '2021-08-01'\n",
    "fecha_fin = '2021-12-31'\n",
    "mask = (df2['Fecha'] >= fecha_ini) & (df2['Fecha'] <= fecha_fin)\n",
    "df3 = df2.loc[mask]\n",
    "df3 = df3.groupby(['Fecha']).mean()\n",
    "df4 = df3.reset_index()\n",
    "\n",
    "warnings.simplefilter(action='ignore', category=FutureWarning)\n",
    "\n",
    "app = JupyterDash(__name__)\n",
    "styles = {\n",
    "    'pre': {\n",
    "        'border': 'thin lightgrey solid',\n",
    "        'overflowX': 'scroll'\n",
    "    }\n",
    "}\n",
    "\n",
    "fig = px.line(df4, x=\"Fecha\", y=\"Polarity\", color=\"Fecha\", title=\"No label selected\")\n",
    "fig.update_traces(mode=\"markers+lines\")\n",
    "\n",
    "app.layout = html.Div([\n",
    "    dcc.Graph(\n",
    "        id='figure1',\n",
    "        figure=fig,\n",
    "    ),\n",
    "\n",
    "    html.Div(className\n",
    "             ='row', children=[\n",
    "        html.Div([\n",
    "            dcc.Markdown(d(\"\"\"Hoverdata using figure references\"\"\")),\n",
    "            html.Pre(id='hoverdata2', style=styles['pre']),\n",
    "        ], className='three columns'),\n",
    "                 \n",
    "         html.Div([\n",
    "            dcc.Markdown(d(\"\"\"Full hoverdata\"\"\")),\n",
    "            html.Pre(id='hoverdata1', style=styles['pre']),\n",
    "        ], className='three columns')   \n",
    "    ]),\n",
    "    \n",
    "])\n",
    "\n",
    "store = []\n",
    "\n",
    "@app.callback(\n",
    "    Output('figure1', 'figure'),\n",
    "    Output('hoverdata1', 'children'),\n",
    "    Output('hoverdata2', 'children'),\n",
    "    [Input('figure1', 'clickData')])\n",
    "\n",
    "def display_hover_data(hoverData):\n",
    "    \n",
    "    if hoverData is not None:\n",
    "        traceref = hoverData['points'][0]['curveNumber']\n",
    "        pointref = hoverData['points'][0]['pointNumber']\n",
    "        store.append([fig.data[traceref]['name'],\n",
    "                      fig.data[traceref]['x'][pointref],\n",
    "                     fig.data[traceref]['y'][pointref]])\n",
    "        fig.update_layout(title = 'Last label was ' + fig.data[traceref]['name'])\n",
    "        return fig, json.dumps(hoverData, indent=2), str(store)\n",
    "    else:\n",
    "        return fig, 'None selected', 'None selecteddd'\n",
    "\n",
    "app.run_server(mode='external', port = 7077, dev_tools_ui=True,\n",
    "          dev_tools_hot_reload =True, threaded=True)"
   ]
  },
  {
   "cell_type": "code",
   "execution_count": null,
   "id": "95cdf74f",
   "metadata": {},
   "outputs": [],
   "source": []
  }
 ],
 "metadata": {
  "kernelspec": {
   "display_name": "Python 3",
   "language": "python",
   "name": "python3"
  },
  "language_info": {
   "codemirror_mode": {
    "name": "ipython",
    "version": 3
   },
   "file_extension": ".py",
   "mimetype": "text/x-python",
   "name": "python",
   "nbconvert_exporter": "python",
   "pygments_lexer": "ipython3",
   "version": "3.8.8"
  }
 },
 "nbformat": 4,
 "nbformat_minor": 5
}
