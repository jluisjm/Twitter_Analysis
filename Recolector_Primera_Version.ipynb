{
 "cells": [
  {
   "cell_type": "code",
   "execution_count": 23,
   "id": "107d9893",
   "metadata": {},
   "outputs": [],
   "source": [
    "import tkinter as tk\n",
    "from tkinter import *\n",
    "from tkinter import ttk\n",
    "from tkinter.ttk import *\n",
    "from tkinter import filedialog\n",
    "\n",
    "import glob\n",
    "import itertools\n",
    "import pandas as pd\n",
    "import snscrape.modules.twitter as sntwitter\n",
    "\n",
    "column_names = ['user', 'date', 'content', 'user_location']\n",
    "dftemp = pd.DataFrame(columns = column_names)\n",
    "loc = '19.3206553, -99.1526775, 40km'"
   ]
  },
  {
   "cell_type": "code",
   "execution_count": 2,
   "id": "f85edf7a",
   "metadata": {},
   "outputs": [],
   "source": [
    "def browse_button():\n",
    "    global folder_path\n",
    "    filename = filedialog.askdirectory()\n",
    "    folder_path.set(filename)\n",
    "    print(filename)"
   ]
  },
  {
   "cell_type": "code",
   "execution_count": 27,
   "id": "c6cb3434",
   "metadata": {},
   "outputs": [
    {
     "name": "stdout",
     "output_type": "stream",
     "text": [
      "C:/Archivos\n"
     ]
    }
   ],
   "source": [
    "root = tk.Tk()\n",
    "v = tk.IntVar()\n",
    "entryd1 = StringVar()\n",
    "entryd2 = StringVar()\n",
    "entryfn = StringVar()\n",
    "entryterms = StringVar()\n",
    "\n",
    "def return_entry(en):\n",
    "    content = FechaIni.get()\n",
    "    print(content)  \n",
    "    \n",
    "root.title(\"Extractor de Tweets\")\n",
    "\n",
    "tk.Label(root, text=\"Indica desde que fecha quieres iniciar la recolección de tweets. Formato AAAA-MM-DD\").grid(row=0, column = 0)\n",
    "tk.Entry(root, textvariable=entryd1).grid(row=0, column = 1)\n",
    "\n",
    "tk.Label(root, text=\"Indica hasta que fecha quieres iniciar la recolección de tweets. Formato AAAA-MM-DD\").grid(row=1, column = 0)\n",
    "tk.Entry(root, textvariable=entryd2).grid(row=1, column = 1)\n",
    "\n",
    "tk.Label(root, text=\"Indica los términos a incluir durante la recolección de tweets separados por comas\").grid(row=2, column = 0)\n",
    "TextArea = Text(root, height = 10, width = 75)\n",
    "TextArea.grid(row = 2, column = 1, padx = 10, sticky = W)\n",
    "TextArea.insert(\"1.0\", \"COVID, COVID19, COVID-19, Coronavirus, Pandemia, Cubrebocas, Sana Distancia,#COVID, #COVID19, #COVID-19, #Coronavirus, #Pandemia, #Cubrebocas, #SanaDistancia, #Delta, AMLO, #AstraZeneca, #Vacuna, #Vacunación, #Pfizer, #Biontech, Vacuna, Vacunación, Pfizer, vacuna covid, #vacunacovid, Astra Zeneca, #Moderna, #Vacunate, #LavadoDeManos, #UsaCubrebocas, Janssen, #Janssen, #johnsonandjohnson, Sputnik V, #SputnikV, Cansino, #Cansino, Sinovac, #Sinovac, Omicron, #Omicron, test, tests, cuarentena, quinta ola, #quintaola\")\n",
    "\n",
    "folder_path = StringVar()\n",
    "lbl1 = Label(master = root, textvariable = folder_path)\n",
    "lbl1.grid(row=4, column=1)\n",
    "button2 = Button(text=\"Seleccionar directorio\", command = browse_button)\n",
    "button2.grid(row=4, column=0)\n",
    "\n",
    "tk.Label(root, text=\"Indica el nombre del archivo (sin extensión)\").grid(row=5, column = 0)\n",
    "tk.Entry(root, textvariable=entryfn).grid(row=5, column = 1)\n",
    "\n",
    "def callback():\n",
    "    contentF1 = entryd1.get()\n",
    "    contentF2 = entryd2.get()\n",
    "    contentdir = folder_path.get()\n",
    "    contentdir = contentdir.replace(\"/\", \"//\")\n",
    "    contentFN = entryfn.get()\n",
    "    contenterms = TextArea.get(\"1.0\",END)\n",
    "    terms = contenterms.split(\" ,\")\n",
    "\n",
    "    desde = contentF1\n",
    "    hasta = contentF2\n",
    "    for item in terms:\n",
    "        try:\n",
    "            df = pd.DataFrame(itertools.islice(sntwitter.TwitterSearchScraper(item + ' lang:es since:' +  desde + ' until:' + hasta + ' geocode:\"{}\"'.format(loc)).get_items(), 500))[['user', 'date', 'content']]\n",
    "            df['user_location'] =  df['user'].apply(lambda x: x['location'])\n",
    "        except KeyError:\n",
    "            df = pd.DataFrame(columns = column_names)\n",
    "\n",
    "        dftemp = pd.concat([dftemp, df], axis=0)\n",
    "    \n",
    "    df2 = dftemp[['date', 'content', 'user_location']]\n",
    "    df2.to_csv(contentdir + '//' + contentFN + '.csv', sep=',', index=False)\n",
    "    TextArea2.insert(\"1.0\", \"Proceso terminado\")\n",
    "\n",
    "MyButton1 = Button(root, text=\"Buscar Tweets y guardar\", width=30, command=callback)\n",
    "MyButton1.grid(row=7, column=1)\n",
    "\n",
    "tk.Label(root, text=\"Estos fueron los tweets encontrados y almacenados\").grid(row=9, column = 0)\n",
    "TextArea2 = Text(root, height = 10, width = 75)\n",
    "TextArea2.grid(row = 9, column = 1, padx = 10, sticky = W)\n",
    "\n",
    "root.mainloop()"
   ]
  }
 ],
 "metadata": {
  "kernelspec": {
   "display_name": "Python 3",
   "language": "python",
   "name": "python3"
  },
  "language_info": {
   "codemirror_mode": {
    "name": "ipython",
    "version": 3
   },
   "file_extension": ".py",
   "mimetype": "text/x-python",
   "name": "python",
   "nbconvert_exporter": "python",
   "pygments_lexer": "ipython3",
   "version": "3.8.8"
  }
 },
 "nbformat": 4,
 "nbformat_minor": 5
}
