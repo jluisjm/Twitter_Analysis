{
 "cells": [
  {
   "cell_type": "code",
   "execution_count": 1,
   "id": "66440d16",
   "metadata": {},
   "outputs": [],
   "source": [
    "import json\n",
    "from textwrap import dedent as d\n",
    "import pandas as pd\n",
    "import plotly.graph_objects as go\n",
    "import numpy as np\n",
    "import dash\n",
    "from dash import dcc\n",
    "#import dash_html_components as html\n",
    "from dash import html\n",
    "import plotly.express as px\n",
    "from dash.dependencies import Input, Output\n",
    "from jupyter_dash import JupyterDash\n",
    "import warnings\n",
    "\n",
    "warnings.simplefilter(action='ignore', category=FutureWarning)\n",
    "\n",
    "# app info\n",
    "app = JupyterDash(__name__)\n",
    "styles = {\n",
    "    'pre': {\n",
    "        'border': 'thin lightgrey solid',\n",
    "        'overflowX': 'scroll'\n",
    "    }\n",
    "}\n",
    "\n",
    "# data\n",
    "df = px.data.gapminder().query(\"continent=='Oceania'\")\n",
    "\n",
    "# plotly figure\n",
    "fig = px.line(df, x=\"year\", y=\"lifeExp\", color=\"country\", title=\"No label selected\")\n",
    "fig.update_traces(mode=\"markers+lines\")\n",
    "\n",
    "app.layout = html.Div([\n",
    "    dcc.Graph(\n",
    "        id='figure1',\n",
    "        figure=fig,\n",
    "    ),\n",
    "\n",
    "    html.Div(className\n",
    "             ='row', children=[\n",
    "        html.Div([\n",
    "            dcc.Markdown(d(\"\"\"Hoverdata using figure references\"\"\")),\n",
    "            html.Pre(id='hoverdata2', style=styles['pre']),\n",
    "        ], className='three columns'),\n",
    "                 \n",
    "                     html.Div([\n",
    "            dcc.Markdown(d(\"\"\"\n",
    "              \n",
    "              Full hoverdata\n",
    "            \"\"\")),\n",
    "            html.Pre(id='hoverdata1', style=styles['pre']),\n",
    "        ], className='three columns')   \n",
    "    ]),\n",
    "    \n",
    "])\n",
    "\n",
    "# container for clicked points in callbacks\n",
    "store = []"
   ]
  },
  {
   "cell_type": "code",
   "execution_count": 5,
   "id": "8ee435ae",
   "metadata": {},
   "outputs": [
    {
     "name": "stdout",
     "output_type": "stream",
     "text": [
      "Dash app running on http://127.0.0.1:7077/\n"
     ]
    }
   ],
   "source": [
    "@app.callback(\n",
    "    Output('figure1', 'figure'),\n",
    "    Output('hoverdata1', 'children'),\n",
    "    Output('hoverdata2', 'children'),\n",
    "    [Input('figure1', 'clickData')])\n",
    "def display_hover_data(hoverData):\n",
    "    \n",
    "    if hoverData is not None:\n",
    "        traceref = hoverData['points'][0]['curveNumber']\n",
    "        pointref = hoverData['points'][0]['pointNumber']\n",
    "        store.append([fig.data[traceref]['name'],\n",
    "                      fig.data[traceref]['x'][pointref],\n",
    "                     fig.data[traceref]['y'][pointref]])\n",
    "        fig.update_layout(title = 'Last label was ' + fig.data[traceref]['name'])\n",
    "        return fig, json.dumps(hoverData, indent=2), str(store)\n",
    "    else:\n",
    "        return fig, 'None selected', 'None selected'\n",
    "\n",
    "app.run_server(mode='external', port = 7077, dev_tools_ui=True,\n",
    "          dev_tools_hot_reload =True, threaded=True)"
   ]
  }
 ],
 "metadata": {
  "kernelspec": {
   "display_name": "Python 3",
   "language": "python",
   "name": "python3"
  },
  "language_info": {
   "codemirror_mode": {
    "name": "ipython",
    "version": 3
   },
   "file_extension": ".py",
   "mimetype": "text/x-python",
   "name": "python",
   "nbconvert_exporter": "python",
   "pygments_lexer": "ipython3",
   "version": "3.8.8"
  }
 },
 "nbformat": 4,
 "nbformat_minor": 5
}
