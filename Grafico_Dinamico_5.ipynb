{
 "cells": [
  {
   "cell_type": "markdown",
   "id": "22bac098",
   "metadata": {},
   "source": [
    "<h3>En esta versión se integra un control tipo dropdown donde se presenta una lista cerrada de diversos terminos.\n",
    "<BR>Para este ejemplo se toma el rango de los meses de agosto a diciembre de 2021.\n",
    "<BR>Los terminos del dropdown son a manera de ejemplo, ya que los mismos se pueden agregar o eliminar.\n",
    "</h3>"
   ]
  },
  {
   "cell_type": "code",
   "execution_count": null,
   "id": "5bca78f1",
   "metadata": {},
   "outputs": [],
   "source": [
    "import warnings, json, numpy as np, pandas as pd, dash, plotly.express as px, plotly.graph_objects as go\n",
    "from textwrap import dedent as d\n",
    "from dash import dcc\n",
    "from dash import html\n",
    "from dash.dependencies import Input, Output\n",
    "from jupyter_dash import JupyterDash\n",
    "\n",
    "ruta = 'C://Tweetsentpol.csv'\n",
    "df = pd.read_csv(ruta, header=0)\n",
    "df2 = df[['Fecha', 'Polarity']]\n",
    "\n",
    "fecha_ini = '2021-08-01'\n",
    "fecha_fin = '2021-12-31'\n",
    "mask = (df2['Fecha'] >= fecha_ini) & (df2['Fecha'] <= fecha_fin)\n",
    "df3 = df2.loc[mask]\n",
    "df3 = df3.groupby(['Fecha']).mean()\n",
    "df4 = df3.reset_index()\n",
    "df4['Color'] = \"Fecha\"\n",
    "\n",
    "warnings.simplefilter(action='ignore', category=FutureWarning)\n",
    "\n",
    "# app info\n",
    "app = JupyterDash(__name__)\n",
    "styles = {\n",
    "    'pre': {\n",
    "        'border': 'thin lightgrey solid',\n",
    "        'overflowX': 'scroll'\n",
    "    }\n",
    "}\n",
    "\n",
    "# plotly figure\n",
    "fig = px.line(df4, x=\"Fecha\", y=\"Polarity\", color=\"Color\", title=\"No label selected\")\n",
    "fig.update_traces(mode=\"markers+lines\")\n",
    "\n",
    "app.layout = html.Div([\n",
    "    dcc.Graph(\n",
    "        id='figure1',\n",
    "        figure=fig,\n",
    "    ),\n",
    "    \n",
    "    html.Div(\n",
    "        html.Div([\n",
    "            dcc.Dropdown(\n",
    "               options=[\n",
    "                   {'label': 'COVID', 'value': 'COVID'},\n",
    "                   {'label': 'Coronavirus', 'value': 'Coronavirus'},\n",
    "                   {'label': 'Pandemia', 'value': 'Pandemia'},\n",
    "                   {'label': 'Vacuna', 'value': 'Vacuna'},\n",
    "                   {'label': 'Cubrebocas', 'value': 'Cubrebocas'},\n",
    "                   {'label': 'AMLO', 'value': 'AMLO'},\n",
    "                   {'label': 'Pfizer', 'value': 'Pfizer'},\n",
    "                   {'label': 'AstraZeneca', 'value': 'AstraZeneca'},\n",
    "                   {'label': '*** Todos ***', 'value': 'Todos'},\n",
    "               ], placeholder=\"Seleccione un termino para filtrado\", id='comboterms', style={\"width\": \"60%\"}),\n",
    "            \n",
    "            html.Pre(id='hoverdata2', style=styles['pre']),\n",
    "    ]), )\n",
    "])\n",
    "\n",
    "ruta2 = 'C://Tweets.csv'\n",
    "dftuits = pd.read_csv(ruta2, header=0)"
   ]
  },
  {
   "cell_type": "markdown",
   "id": "e8a648d6",
   "metadata": {},
   "source": [
    "<h3>Idealmente, primero se debe seleccionar un punto de la serie de tiempo para mostrar los tweets de ese día. Los cuales se identifican por el prefijo \"Tweet-> \".\n",
    "<BR>Posteriormente y de manera opcional, se puede seleccionar un valor de la serie de tiempo.\n",
    "<BR>También se pueden volver a mostrar todos los tweets originales del día elegido.\n",
    "</h3>"
   ]
  },
  {
   "cell_type": "code",
   "execution_count": 2,
   "id": "09c0e2b7",
   "metadata": {},
   "outputs": [
    {
     "name": "stdout",
     "output_type": "stream",
     "text": [
      "Dash app running on http://127.0.0.1:7078/\n"
     ]
    }
   ],
   "source": [
    "@app.callback(Output('hoverdata2', 'children'), \n",
    "             [Input('figure1', 'clickData'),\n",
    "              Input('comboterms', 'value')])\n",
    "\n",
    "def display_hover_data(hoverData, comboterms_name):\n",
    "    global dftuits2\n",
    "    button_id = dash.callback_context.triggered[0]['prop_id'].split('.')[0]\n",
    "    if button_id == 'figure1' and hoverData:\n",
    "        if hoverData is not None:\n",
    "            traceref = hoverData['points'][0]['curveNumber']\n",
    "            pointref = hoverData['points'][0]['pointNumber']\n",
    "\n",
    "            mask2 = (dftuits['fecha'] == fig.data[traceref]['x'][pointref])\n",
    "            dftuits2 = dftuits.loc[mask2]\n",
    "            lostuits = pd.Series(\"Tweet-> \" + dftuits2['tweet'])\n",
    "            lostuits2 = lostuits.astype(str).str.cat(sep='\\n')\n",
    "\n",
    "            return html.Div([\n",
    "                    html.Br(),html.Pre('Dia Seleccionado ' + fig.data[traceref]['x'][pointref]),html.Br(),html.Pre(lostuits2)\n",
    "                ])\n",
    "        else:\n",
    "            return 'Ninguno seleccionado'\n",
    "\n",
    "    elif button_id == 'comboterms' and comboterms_name:\n",
    "        if comboterms_name is not None:\n",
    "            if comboterms_name == 'Todos':\n",
    "                df3 = dftuits2\n",
    "                lostuits3 = pd.Series(\"Tweet-> \" + df3['tweet'])\n",
    "                lostuits4 = lostuits3.astype(str).str.cat(sep='\\n')\n",
    "            else:\n",
    "                df3 = dftuits2[dftuits2['tweet'].str.contains(comboterms_name, case=False)]\n",
    "                lostuits3 = pd.Series(\"Tweet-> \" + df3['tweet'])\n",
    "                lostuits4 = lostuits3.astype(str).str.cat(sep='\\n')\n",
    "\n",
    "            return html.Div([\n",
    "                        html.Pre('Valor Seleccionado ' + comboterms_name),html.Br(),html.Pre(lostuits4)\n",
    "                    ])\n",
    "    else:\n",
    "        raise dash.exceptions.PreventUpdate\n",
    "\n",
    "app.run_server(mode='external', port = 7078, dev_tools_ui=True,\n",
    "  dev_tools_hot_reload =True, threaded=True)"
   ]
  }
 ],
 "metadata": {
  "kernelspec": {
   "display_name": "Python 3",
   "language": "python",
   "name": "python3"
  },
  "language_info": {
   "codemirror_mode": {
    "name": "ipython",
    "version": 3
   },
   "file_extension": ".py",
   "mimetype": "text/x-python",
   "name": "python",
   "nbconvert_exporter": "python",
   "pygments_lexer": "ipython3",
   "version": "3.8.8"
  }
 },
 "nbformat": 4,
 "nbformat_minor": 5
}
